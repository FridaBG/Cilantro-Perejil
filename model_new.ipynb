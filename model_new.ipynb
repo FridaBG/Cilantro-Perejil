{
 "cells": [
  {
   "cell_type": "code",
   "execution_count": 8,
   "metadata": {},
   "outputs": [],
   "source": [
    "import os\n",
    "import numpy as np\n",
    "import tensorflow as tf\n",
    "import matplotlib.pyplot as plt\n",
    "from tensorflow.keras.applications import EfficientNetB0\n",
    "from tensorflow.keras.preprocessing.image import ImageDataGenerator\n",
    "from tensorflow.keras.models import Model\n",
    "from tensorflow.keras.layers import Input, GlobalAveragePooling2D, Dropout, Dense\n",
    "from sklearn.metrics import confusion_matrix, classification_report\n",
    "import seaborn as sns"
   ]
  },
  {
   "cell_type": "markdown",
   "metadata": {},
   "source": [
    "## 1. CARGA Y PREPROCESAMIENTO DE DATOS "
   ]
  },
  {
   "cell_type": "code",
   "execution_count": 9,
   "metadata": {},
   "outputs": [
    {
     "name": "stdout",
     "output_type": "stream",
     "text": [
      "Found 1492 images belonging to 2 classes.\n",
      "Found 106 images belonging to 2 classes.\n",
      "Found 110 images belonging to 2 classes.\n"
     ]
    }
   ],
   "source": [
    "\n",
    "base_dir = 'images'\n",
    "target_size = (224, 224)\n",
    "\n",
    "train_datagen = ImageDataGenerator(\n",
    "    rescale=1./255,\n",
    "    rotation_range=30,\n",
    "    width_shift_range=0.2,\n",
    "    height_shift_range=0.2,\n",
    "    shear_range=0.15,\n",
    "    zoom_range=0.2,\n",
    "    horizontal_flip=True,\n",
    "    brightness_range=[0.6, 1.4],\n",
    "    fill_mode='nearest'\n",
    ")\n",
    "\n",
    "test_datagen = ImageDataGenerator(rescale=1./255)\n",
    "validation_datagen = ImageDataGenerator(rescale=1./255)\n",
    "\n",
    "train = train_datagen.flow_from_directory(os.path.join(base_dir, 'train'), target_size=target_size, batch_size=32, class_mode='binary')\n",
    "val = test_datagen.flow_from_directory(os.path.join(base_dir, 'validation'), target_size=target_size, batch_size=32, class_mode='binary')\n",
    "test = test_datagen.flow_from_directory(os.path.join(base_dir, 'test'), target_size=target_size, batch_size=32, class_mode='binary', shuffle=False)"
   ]
  },
  {
   "cell_type": "markdown",
   "metadata": {},
   "source": [
    "## 2. MODELO CON EfficientNetB0"
   ]
  },
  {
   "cell_type": "code",
   "execution_count": 10,
   "metadata": {},
   "outputs": [
    {
     "name": "stderr",
     "output_type": "stream",
     "text": [
      "WARNING:absl:At this time, the v2.11+ optimizer `tf.keras.optimizers.Adam` runs slowly on M1/M2 Macs, please use the legacy Keras optimizer instead, located at `tf.keras.optimizers.legacy.Adam`.\n",
      "WARNING:absl:There is a known slowdown when using v2.11+ Keras optimizers on M1/M2 Macs. Falling back to the legacy Keras optimizer, i.e., `tf.keras.optimizers.legacy.Adam`.\n"
     ]
    }
   ],
   "source": [
    "base_model = EfficientNetB0(weights='imagenet', include_top=False, input_shape=(224, 224, 3))\n",
    "base_model.trainable = True\n",
    "for layer in base_model.layers[:-100]:\n",
    "    layer.trainable = False\n",
    "\n",
    "inputs = Input(shape=(224, 224, 3))\n",
    "x = base_model(inputs, training=True)\n",
    "x = GlobalAveragePooling2D()(x)\n",
    "x = Dropout(0.4)(x)\n",
    "outputs = Dense(1, activation='sigmoid')(x)\n",
    "model = Model(inputs, outputs)\n",
    "\n",
    "model.compile(optimizer=tf.keras.optimizers.Adam(1e-5), loss='binary_crossentropy', metrics=['accuracy'])"
   ]
  },
  {
   "cell_type": "markdown",
   "metadata": {},
   "source": [
    "## 3. ENTRENAMIENTO \n"
   ]
  },
  {
   "cell_type": "code",
   "execution_count": 20,
   "metadata": {},
   "outputs": [
    {
     "name": "stdout",
     "output_type": "stream",
     "text": [
      "Epoch 1/15\n",
      "47/47 [==============================] - 40s 794ms/step - loss: 0.6819 - accuracy: 0.5664 - val_loss: 0.6837 - val_accuracy: 0.5943\n",
      "Epoch 2/15\n",
      "47/47 [==============================] - 37s 786ms/step - loss: 0.6866 - accuracy: 0.5516 - val_loss: 0.7009 - val_accuracy: 0.4906\n",
      "Epoch 3/15\n",
      "47/47 [==============================] - 38s 797ms/step - loss: 0.6874 - accuracy: 0.5529 - val_loss: 0.6994 - val_accuracy: 0.5377\n",
      "Epoch 4/15\n",
      "47/47 [==============================] - 37s 775ms/step - loss: 0.6790 - accuracy: 0.5751 - val_loss: 0.6825 - val_accuracy: 0.5660\n",
      "Epoch 5/15\n",
      "47/47 [==============================] - 37s 783ms/step - loss: 0.6781 - accuracy: 0.5637 - val_loss: 0.7324 - val_accuracy: 0.4434\n",
      "Epoch 6/15\n",
      "47/47 [==============================] - 37s 778ms/step - loss: 0.6894 - accuracy: 0.5469 - val_loss: 0.7171 - val_accuracy: 0.4717\n",
      "Epoch 7/15\n",
      "47/47 [==============================] - 37s 783ms/step - loss: 0.6902 - accuracy: 0.5369 - val_loss: 0.6845 - val_accuracy: 0.5660\n",
      "Epoch 8/15\n",
      "47/47 [==============================] - 37s 781ms/step - loss: 0.6810 - accuracy: 0.5509 - val_loss: 0.7118 - val_accuracy: 0.4528\n",
      "Epoch 9/15\n",
      "47/47 [==============================] - 38s 804ms/step - loss: 0.6847 - accuracy: 0.5583 - val_loss: 0.7069 - val_accuracy: 0.5472\n",
      "Epoch 10/15\n",
      "47/47 [==============================] - 37s 783ms/step - loss: 0.6855 - accuracy: 0.5469 - val_loss: 0.7159 - val_accuracy: 0.5660\n",
      "Epoch 11/15\n",
      "47/47 [==============================] - 37s 790ms/step - loss: 0.6836 - accuracy: 0.5657 - val_loss: 0.7401 - val_accuracy: 0.4623\n",
      "Epoch 12/15\n",
      "47/47 [==============================] - 37s 782ms/step - loss: 0.6855 - accuracy: 0.5496 - val_loss: 0.6862 - val_accuracy: 0.5189\n",
      "Epoch 13/15\n",
      "47/47 [==============================] - 37s 786ms/step - loss: 0.6738 - accuracy: 0.5704 - val_loss: 0.7067 - val_accuracy: 0.5283\n",
      "Epoch 14/15\n",
      "47/47 [==============================] - 37s 778ms/step - loss: 0.6720 - accuracy: 0.5804 - val_loss: 0.7004 - val_accuracy: 0.5377\n",
      "Epoch 15/15\n",
      "19/47 [===========>..................] - ETA: 20s - loss: 0.6812 - accuracy: 0.5621"
     ]
    }
   ],
   "source": [
    "history = model.fit(train, epochs=15, validation_data=val)"
   ]
  },
  {
   "cell_type": "markdown",
   "metadata": {},
   "source": [
    "## 4. MATRIZ DE CONFUSIÓN Y REPORTE "
   ]
  },
  {
   "cell_type": "code",
   "execution_count": 12,
   "metadata": {},
   "outputs": [
    {
     "name": "stdout",
     "output_type": "stream",
     "text": [
      "4/4 [==============================] - 2s 240ms/step\n"
     ]
    },
    {
     "data": {
      "image/png": "[encoded data removed]",
      "text/plain": [
       "<Figure size 640x480 with 2 Axes>"
      ]
     },
     "metadata": {},
     "output_type": "display_data"
    },
    {
     "name": "stdout",
     "output_type": "stream",
     "text": [
      "📊 Reporte de clasificación:\n",
      "              precision    recall  f1-score   support\n",
      "\n",
      "    cilantro       0.55      0.61      0.58        62\n",
      "     perejil       0.41      0.35      0.38        48\n",
      "\n",
      "    accuracy                           0.50       110\n",
      "   macro avg       0.48      0.48      0.48       110\n",
      "weighted avg       0.49      0.50      0.49       110\n",
      "\n"
     ]
    }
   ],
   "source": [
    "y_true = test.classes\n",
    "y_pred_probs = model.predict(test)\n",
    "y_pred = (y_pred_probs > 0.5).astype(int).flatten()\n",
    "\n",
    "labels = list(test.class_indices.keys())\n",
    "cm = confusion_matrix(y_true, y_pred)\n",
    "\n",
    "sns.heatmap(cm, annot=True, fmt=\"d\", cmap=\"Greens\", xticklabels=labels, yticklabels=labels)\n",
    "plt.title(\"Matriz de Confusión\")\n",
    "plt.xlabel(\"Predicho\")\n",
    "plt.ylabel(\"Verdadero\")\n",
    "plt.show()\n",
    "\n",
    "print(\"📊 Reporte de clasificación:\")\n",
    "print(classification_report(y_true, y_pred, target_names=labels))"
   ]
  },
  {
   "cell_type": "markdown",
   "metadata": {},
   "source": [
    "## 6. GRÁFICAS "
   ]
  },
  {
   "cell_type": "code",
   "execution_count": 14,
   "metadata": {},
   "outputs": [
    {
     "name": "stdout",
     "output_type": "stream",
     "text": [
      "4/4 [==============================] - 1s 234ms/step - loss: 0.6921 - accuracy: 0.5000\n"
     ]
    },
    {
     "ename": "NameError",
     "evalue": "name 'history' is not defined",
     "output_type": "error",
     "traceback": [
      "\u001b[0;31m---------------------------------------------------------------------------\u001b[0m",
      "\u001b[0;31mNameError\u001b[0m                                 Traceback (most recent call last)",
      "Cell \u001b[0;32mIn[14], line 3\u001b[0m\n\u001b[1;32m      1\u001b[0m \u001b[38;5;66;03m# === Evaluación en test ===\u001b[39;00m\n\u001b[1;32m      2\u001b[0m test_loss, test_acc \u001b[38;5;241m=\u001b[39m model\u001b[38;5;241m.\u001b[39mevaluate(test)\n\u001b[0;32m----> 3\u001b[0m accuracy \u001b[38;5;241m=\u001b[39m \u001b[43mhistory\u001b[49m\u001b[38;5;241m.\u001b[39mhistory[\u001b[38;5;124m'\u001b[39m\u001b[38;5;124maccuracy\u001b[39m\u001b[38;5;124m'\u001b[39m]\n\u001b[1;32m      4\u001b[0m val_accuracy \u001b[38;5;241m=\u001b[39m history\u001b[38;5;241m.\u001b[39mhistory[\u001b[38;5;124m'\u001b[39m\u001b[38;5;124mval_accuracy\u001b[39m\u001b[38;5;124m'\u001b[39m]\n\u001b[1;32m      5\u001b[0m epochs \u001b[38;5;241m=\u001b[39m \u001b[38;5;28mrange\u001b[39m(\u001b[38;5;241m1\u001b[39m, \u001b[38;5;28mlen\u001b[39m(accuracy) \u001b[38;5;241m+\u001b[39m \u001b[38;5;241m1\u001b[39m)\n",
      "\u001b[0;31mNameError\u001b[0m: name 'history' is not defined"
     ]
    }
   ],
   "source": [
    "# === Evaluación en test ===\n",
    "test_loss, test_acc = model.evaluate(test)\n",
    "accuracy = history.history['accuracy']\n",
    "val_accuracy = history.history['val_accuracy']\n",
    "epochs = range(1, len(accuracy) + 1)\n",
    "\n",
    "# === Accuracy Plot ===\n",
    "plt.figure()\n",
    "plt.plot(epochs, accuracy, color='#C4F261', label='Train Accuracy')\n",
    "plt.plot(epochs, val_accuracy, color='#00C26E', label='Validation Accuracy')\n",
    "plt.axhline(y=test_acc, color='blue', linestyle='--', label='Test Accuracy')\n",
    "plt.title('Train, Validation & Test Accuracy')\n",
    "plt.ylim(0.4, 1)\n",
    "plt.xlabel('Epochs')\n",
    "plt.ylabel('Accuracy')\n",
    "plt.legend()\n",
    "plt.grid(True)\n",
    "plt.show()\n",
    "\n",
    "# === Loss Plot ===\n",
    "train_loss = history.history['loss']\n",
    "val_loss = history.history['val_loss']\n",
    "test_loss = model.evaluate(test)[0]\n",
    "\n",
    "plt.figure()\n",
    "plt.plot(epochs, train_loss, color='#C4F261', label='Train Loss')  \n",
    "plt.plot(epochs, val_loss, color='#00C26E', label='Validation Loss')     \n",
    "plt.axhline(y=test_loss, color='blue', linestyle='--', label='Test Loss')\n",
    "plt.title('Train, Validation & Test Loss')\n",
    "plt.xlabel('Epochs')\n",
    "plt.ylabel('Loss')\n",
    "plt.legend()\n",
    "plt.grid(True)\n",
    "plt.show()\n"
   ]
  },
  {
   "cell_type": "markdown",
   "metadata": {},
   "source": [
    "## 7. GUARDAR "
   ]
  },
  {
   "cell_type": "code",
   "execution_count": 17,
   "metadata": {},
   "outputs": [
    {
     "name": "stdout",
     "output_type": "stream",
     "text": [
      "INFO:tensorflow:Assets written to: modelo_entrenado_savedmodel/assets\n"
     ]
    },
    {
     "name": "stderr",
     "output_type": "stream",
     "text": [
      "INFO:tensorflow:Assets written to: modelo_entrenado_savedmodel/assets\n"
     ]
    }
   ],
   "source": [
    "# Option 1: Save without optimizer (for SavedModel)\n",
    "model.save('modelo_entrenado_inference', save_format='tf', include_optimizer=False)\n",
    "\n",
    "# Option 2: Save in .keras format (best for Keras 3)\n",
    "model.save('modelo_entrenado.keras')"
   ]
  },
  {
   "cell_type": "markdown",
   "metadata": {},
   "source": [
    "## 8. CARGAR MODELO"
   ]
  },
  {
   "cell_type": "code",
   "execution_count": 19,
   "metadata": {},
   "outputs": [],
   "source": [
    "from tensorflow.keras.models import load_model\n",
    "model = load_model('modelo_entrenado_savedmodel')"
   ]
  }
 ],
 "metadata": {
  "kernelspec": {
   "display_name": "venv",
   "language": "python",
   "name": "python3"
  },
  "language_info": {
   "codemirror_mode": {
    "name": "ipython",
    "version": 3
   },
   "file_extension": ".py",
   "mimetype": "text/x-python",
   "name": "python",
   "nbconvert_exporter": "python",
   "pygments_lexer": "ipython3",
   "version": "3.10.13"
  }
 },
 "nbformat": 4,
 "nbformat_minor": 2
}
